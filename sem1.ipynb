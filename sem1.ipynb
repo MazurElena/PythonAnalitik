{
 "cells": [
  {
   "attachments": {},
   "cell_type": "markdown",
   "metadata": {},
   "source": [
    "#Задача1\n",
    "##Напишите функцию, которая на вход принимает два словаря и возвращает один объединенный словарь. Используйте аннотирование типов"
   ]
  },
  {
   "cell_type": "code",
   "execution_count": 1,
   "metadata": {},
   "outputs": [
    {
     "data": {
      "text/plain": [
       "{'One': 1, 'Two': 2, 'Three': 3, 'Four': 4, 'Five': 5, 'Six': 6}"
      ]
     },
     "execution_count": 1,
     "metadata": {},
     "output_type": "execute_result"
    }
   ],
   "source": [
    "def join_dict (d1,d2:list):\n",
    "    return{**d1,**d2}\n",
    "\n",
    "dict1={'One':1,'Two':2, 'Three':3}\n",
    "dict2={'Four':4,'Five':5, 'Six':6}\n",
    "join_dict(dict1,dict2)"
   ]
  },
  {
   "cell_type": "code",
   "execution_count": 1,
   "metadata": {},
   "outputs": [
    {
     "data": {
      "text/plain": [
       "{'One': 1, 'Two': 2, 'Three': 3, 'Four': 4, 'Five': 5, 'Six': 6}"
      ]
     },
     "execution_count": 1,
     "metadata": {},
     "output_type": "execute_result"
    }
   ],
   "source": [
    "def join_dict (d1,d2:list):\n",
    "    d1.update(d2)\n",
    "    return d1\n",
    "\n",
    "dict1={'One':1,'Two':2, 'Three':3}\n",
    "dict2={'Four':4,'Five':5, 'Six':6}\n",
    "join_dict(dict1,dict2)"
   ]
  },
  {
   "attachments": {},
   "cell_type": "markdown",
   "metadata": {},
   "source": [
    "#Задача2\n",
    "##Напишите функцию, которая из двух списков, делает один словарь, где элементы из первого списка - ключи, а элементы из второго списка - значения\n",
    "Используйте аннотирование типов\n",
    "2.1 Используя цикл for"
   ]
  },
  {
   "cell_type": "code",
   "execution_count": 2,
   "metadata": {},
   "outputs": [
    {
     "data": {
      "text/plain": [
       "{'One': 1, 'Two': 2, 'Three': 3}"
      ]
     },
     "execution_count": 2,
     "metadata": {},
     "output_type": "execute_result"
    }
   ],
   "source": [
    "def join_dict (d1: list, d2: list) -> dict:\n",
    "    dict_join = {}\n",
    "    for i in range(len(d1)):\n",
    "        dict_join[d1[i]] = d2[i]\n",
    "    return dict_join\n",
    "\n",
    "d1 = ['One','Two', 'Three']\n",
    "d2 = [1, 2, 3]\n",
    "join_dict(d1,d2)"
   ]
  },
  {
   "attachments": {},
   "cell_type": "markdown",
   "metadata": {},
   "source": [
    "#Задача2\n",
    "##2.2 Используя dict comprehensions"
   ]
  },
  {
   "cell_type": "code",
   "execution_count": 3,
   "metadata": {},
   "outputs": [
    {
     "data": {
      "text/plain": [
       "{'One': 1, 'Two': 2, 'Three': 3}"
      ]
     },
     "execution_count": 3,
     "metadata": {},
     "output_type": "execute_result"
    }
   ],
   "source": [
    "def join_dict (d1: list, d2: list) -> dict:\n",
    "    dict_join = {d1[i]:d2[i] for i in range(len(d1))}\n",
    "    return dict_join\n",
    "\n",
    "d1 = ['One','Two', 'Three']\n",
    "d2 = [1, 2, 3]\n",
    "join_dict(d1,d2)"
   ]
  },
  {
   "attachments": {},
   "cell_type": "markdown",
   "metadata": {},
   "source": [
    "#Задание 3.\n",
    "##Извлеките только два ключа name и age из представленного\n",
    "словаря"
   ]
  },
  {
   "attachments": {},
   "cell_type": "markdown",
   "metadata": {},
   "source": [
    "##3.1 Напишите функцию с циклом for\n",
    "Функция на вход принимает: исходный словарь \n",
    "                           ключи, которые нужно извлечь (аргумент по\n",
    "умолчанию) \n",
    "На выходе словарь с нужными ключами\n",
    "Используйте аннотирование типов\n"
   ]
  },
  {
   "cell_type": "code",
   "execution_count": 4,
   "metadata": {},
   "outputs": [
    {
     "data": {
      "text/plain": [
       "{'name': 'John', 'age': 25}"
      ]
     },
     "execution_count": 4,
     "metadata": {},
     "output_type": "execute_result"
    }
   ],
   "source": [
    "client_dict = {\n",
    "    \"name\": \"John\", \n",
    "    \"age\": 25, \n",
    "    \"salary\": 5000, \n",
    "    \"city\": \"Moscow\"\n",
    "}\n",
    "def ext(d1: dict,keys=['name','age']) -> dict:\n",
    "    dict_join = {}\n",
    "    for i in keys:\n",
    "            dict_join.update({i:d1[i]})\n",
    "    return dict_join\n",
    "ext(client_dict)"
   ]
  },
  {
   "cell_type": "markdown",
   "metadata": {},
   "source": [
    "##3.2 Используя dict comprehensions"
   ]
  },
  {
   "cell_type": "code",
   "execution_count": 5,
   "metadata": {},
   "outputs": [
    {
     "data": {
      "text/plain": [
       "{'name': 'John', 'age': 25}"
      ]
     },
     "execution_count": 5,
     "metadata": {},
     "output_type": "execute_result"
    }
   ],
   "source": [
    "client_dict = {\n",
    "    \"name\": \"John\", \n",
    "    \"age\": 25, \n",
    "    \"salary\": 5000, \n",
    "    \"city\": \"Moscow\"\n",
    "}\n",
    "def ext(d1: dict,keys=['name','age']) -> dict:\n",
    "    dict_join = {key:d1[key] for key in keys}\n",
    "    return dict_join\n",
    "ext(client_dict)"
   ]
  },
  {
   "cell_type": "code",
   "execution_count": 7,
   "metadata": {},
   "outputs": [
    {
     "ename": "SyntaxError",
     "evalue": "unexpected character after line continuation character (2382517109.py, line 1)",
     "output_type": "error",
     "traceback": [
      "\u001b[1;36m  Cell \u001b[1;32mIn[7], line 1\u001b[1;36m\u001b[0m\n\u001b[1;33m    git add .\\sem1.ipynb\u001b[0m\n\u001b[1;37m              ^\u001b[0m\n\u001b[1;31mSyntaxError\u001b[0m\u001b[1;31m:\u001b[0m unexpected character after line continuation character\n"
     ]
    }
   ],
   "source": [
    "git add .\\sem1.ipynb\n"
   ]
  },
  {
   "cell_type": "code",
   "execution_count": null,
   "metadata": {},
   "outputs": [],
   "source": []
  }
 ],
 "metadata": {
  "kernelspec": {
   "display_name": "Python 3",
   "language": "python",
   "name": "python3"
  },
  "language_info": {
   "codemirror_mode": {
    "name": "ipython",
    "version": 3
   },
   "file_extension": ".py",
   "mimetype": "text/x-python",
   "name": "python",
   "nbconvert_exporter": "python",
   "pygments_lexer": "ipython3",
   "version": "3.11.3"
  },
  "orig_nbformat": 4
 },
 "nbformat": 4,
 "nbformat_minor": 2
}
